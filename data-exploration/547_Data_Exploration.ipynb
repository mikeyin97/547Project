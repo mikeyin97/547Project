{
  "nbformat": 4,
  "nbformat_minor": 0,
  "metadata": {
    "colab": {
      "provenance": []
    },
    "kernelspec": {
      "name": "python3",
      "display_name": "Python 3"
    },
    "language_info": {
      "name": "python"
    }
  },
  "cells": [
    {
      "cell_type": "code",
      "execution_count": null,
      "metadata": {
        "id": "_7LtVUyCBozY",
        "colab": {
          "base_uri": "https://localhost:8080/"
        },
        "outputId": "0cba89bf-afe3-464c-a78d-787cc3c18b1e"
      },
      "outputs": [
        {
          "output_type": "execute_result",
          "data": {
            "text/plain": [
              "(58502, 25)"
            ]
          },
          "metadata": {},
          "execution_count": 4
        }
      ],
      "source": [
        "import pandas as pd\n",
        "df = pd.read_csv('HydroWASTE_v10.csv', encoding = 'unicode_escape', engine ='python') \n",
        "df.shape"
      ]
    },
    {
      "cell_type": "code",
      "source": [
        "df.head(3)"
      ],
      "metadata": {
        "id": "41_Dm1ZPB1pX",
        "colab": {
          "base_uri": "https://localhost:8080/",
          "height": 289
        },
        "outputId": "28ee90a0-2c3d-4cfd-82f3-5f2a8ab7ceac"
      },
      "execution_count": null,
      "outputs": [
        {
          "output_type": "execute_result",
          "data": {
            "text/plain": [
              "   WASTE_ID  SOURCE   ORG_ID               WWTP_NAME    COUNTRY CNTRY_ISO  \\\n",
              "0         1       1  1140441    Akmenes aglomeracija  Lithuania       LTU   \n",
              "1         2       1  1140443  Alytaus m aglomeracija  Lithuania       LTU   \n",
              "2         3       1  1140445   Anyksciu aglomeracija  Lithuania       LTU   \n",
              "\n",
              "   LAT_WWTP  LON_WWTP  QUAL_LOC  LAT_OUT  ...  QUAL_WASTE     LEVEL  \\\n",
              "0    56.247    22.726         2   56.223  ...           4  Advanced   \n",
              "1    54.432    24.056         2   54.519  ...           1  Advanced   \n",
              "2    55.509    25.073         2   55.452  ...           1  Advanced   \n",
              "\n",
              "   QUAL_LEVEL        DF    HYRIV_ID  RIVER_DIS COAST_10KM  COAST_50KM  \\\n",
              "0           1  2421.974  20228874.0      4.153          0           0   \n",
              "1           1  2534.527  20261585.0    257.983          0           0   \n",
              "2           1  1367.809  20243105.0     30.995          0           0   \n",
              "\n",
              "   DESIGN_CAP  QUAL_CAP  \n",
              "0      4600.0         2  \n",
              "1    220000.0         2  \n",
              "2     33000.0         2  \n",
              "\n",
              "[3 rows x 25 columns]"
            ],
            "text/html": [
              "\n",
              "  <div id=\"df-f6eecab6-161d-4ed2-9dad-e30c30bc2943\">\n",
              "    <div class=\"colab-df-container\">\n",
              "      <div>\n",
              "<style scoped>\n",
              "    .dataframe tbody tr th:only-of-type {\n",
              "        vertical-align: middle;\n",
              "    }\n",
              "\n",
              "    .dataframe tbody tr th {\n",
              "        vertical-align: top;\n",
              "    }\n",
              "\n",
              "    .dataframe thead th {\n",
              "        text-align: right;\n",
              "    }\n",
              "</style>\n",
              "<table border=\"1\" class=\"dataframe\">\n",
              "  <thead>\n",
              "    <tr style=\"text-align: right;\">\n",
              "      <th></th>\n",
              "      <th>WASTE_ID</th>\n",
              "      <th>SOURCE</th>\n",
              "      <th>ORG_ID</th>\n",
              "      <th>WWTP_NAME</th>\n",
              "      <th>COUNTRY</th>\n",
              "      <th>CNTRY_ISO</th>\n",
              "      <th>LAT_WWTP</th>\n",
              "      <th>LON_WWTP</th>\n",
              "      <th>QUAL_LOC</th>\n",
              "      <th>LAT_OUT</th>\n",
              "      <th>...</th>\n",
              "      <th>QUAL_WASTE</th>\n",
              "      <th>LEVEL</th>\n",
              "      <th>QUAL_LEVEL</th>\n",
              "      <th>DF</th>\n",
              "      <th>HYRIV_ID</th>\n",
              "      <th>RIVER_DIS</th>\n",
              "      <th>COAST_10KM</th>\n",
              "      <th>COAST_50KM</th>\n",
              "      <th>DESIGN_CAP</th>\n",
              "      <th>QUAL_CAP</th>\n",
              "    </tr>\n",
              "  </thead>\n",
              "  <tbody>\n",
              "    <tr>\n",
              "      <th>0</th>\n",
              "      <td>1</td>\n",
              "      <td>1</td>\n",
              "      <td>1140441</td>\n",
              "      <td>Akmenes aglomeracija</td>\n",
              "      <td>Lithuania</td>\n",
              "      <td>LTU</td>\n",
              "      <td>56.247</td>\n",
              "      <td>22.726</td>\n",
              "      <td>2</td>\n",
              "      <td>56.223</td>\n",
              "      <td>...</td>\n",
              "      <td>4</td>\n",
              "      <td>Advanced</td>\n",
              "      <td>1</td>\n",
              "      <td>2421.974</td>\n",
              "      <td>20228874.0</td>\n",
              "      <td>4.153</td>\n",
              "      <td>0</td>\n",
              "      <td>0</td>\n",
              "      <td>4600.0</td>\n",
              "      <td>2</td>\n",
              "    </tr>\n",
              "    <tr>\n",
              "      <th>1</th>\n",
              "      <td>2</td>\n",
              "      <td>1</td>\n",
              "      <td>1140443</td>\n",
              "      <td>Alytaus m aglomeracija</td>\n",
              "      <td>Lithuania</td>\n",
              "      <td>LTU</td>\n",
              "      <td>54.432</td>\n",
              "      <td>24.056</td>\n",
              "      <td>2</td>\n",
              "      <td>54.519</td>\n",
              "      <td>...</td>\n",
              "      <td>1</td>\n",
              "      <td>Advanced</td>\n",
              "      <td>1</td>\n",
              "      <td>2534.527</td>\n",
              "      <td>20261585.0</td>\n",
              "      <td>257.983</td>\n",
              "      <td>0</td>\n",
              "      <td>0</td>\n",
              "      <td>220000.0</td>\n",
              "      <td>2</td>\n",
              "    </tr>\n",
              "    <tr>\n",
              "      <th>2</th>\n",
              "      <td>3</td>\n",
              "      <td>1</td>\n",
              "      <td>1140445</td>\n",
              "      <td>Anyksciu aglomeracija</td>\n",
              "      <td>Lithuania</td>\n",
              "      <td>LTU</td>\n",
              "      <td>55.509</td>\n",
              "      <td>25.073</td>\n",
              "      <td>2</td>\n",
              "      <td>55.452</td>\n",
              "      <td>...</td>\n",
              "      <td>1</td>\n",
              "      <td>Advanced</td>\n",
              "      <td>1</td>\n",
              "      <td>1367.809</td>\n",
              "      <td>20243105.0</td>\n",
              "      <td>30.995</td>\n",
              "      <td>0</td>\n",
              "      <td>0</td>\n",
              "      <td>33000.0</td>\n",
              "      <td>2</td>\n",
              "    </tr>\n",
              "  </tbody>\n",
              "</table>\n",
              "<p>3 rows × 25 columns</p>\n",
              "</div>\n",
              "      <button class=\"colab-df-convert\" onclick=\"convertToInteractive('df-f6eecab6-161d-4ed2-9dad-e30c30bc2943')\"\n",
              "              title=\"Convert this dataframe to an interactive table.\"\n",
              "              style=\"display:none;\">\n",
              "        \n",
              "  <svg xmlns=\"http://www.w3.org/2000/svg\" height=\"24px\"viewBox=\"0 0 24 24\"\n",
              "       width=\"24px\">\n",
              "    <path d=\"M0 0h24v24H0V0z\" fill=\"none\"/>\n",
              "    <path d=\"M18.56 5.44l.94 2.06.94-2.06 2.06-.94-2.06-.94-.94-2.06-.94 2.06-2.06.94zm-11 1L8.5 8.5l.94-2.06 2.06-.94-2.06-.94L8.5 2.5l-.94 2.06-2.06.94zm10 10l.94 2.06.94-2.06 2.06-.94-2.06-.94-.94-2.06-.94 2.06-2.06.94z\"/><path d=\"M17.41 7.96l-1.37-1.37c-.4-.4-.92-.59-1.43-.59-.52 0-1.04.2-1.43.59L10.3 9.45l-7.72 7.72c-.78.78-.78 2.05 0 2.83L4 21.41c.39.39.9.59 1.41.59.51 0 1.02-.2 1.41-.59l7.78-7.78 2.81-2.81c.8-.78.8-2.07 0-2.86zM5.41 20L4 18.59l7.72-7.72 1.47 1.35L5.41 20z\"/>\n",
              "  </svg>\n",
              "      </button>\n",
              "      \n",
              "  <style>\n",
              "    .colab-df-container {\n",
              "      display:flex;\n",
              "      flex-wrap:wrap;\n",
              "      gap: 12px;\n",
              "    }\n",
              "\n",
              "    .colab-df-convert {\n",
              "      background-color: #E8F0FE;\n",
              "      border: none;\n",
              "      border-radius: 50%;\n",
              "      cursor: pointer;\n",
              "      display: none;\n",
              "      fill: #1967D2;\n",
              "      height: 32px;\n",
              "      padding: 0 0 0 0;\n",
              "      width: 32px;\n",
              "    }\n",
              "\n",
              "    .colab-df-convert:hover {\n",
              "      background-color: #E2EBFA;\n",
              "      box-shadow: 0px 1px 2px rgba(60, 64, 67, 0.3), 0px 1px 3px 1px rgba(60, 64, 67, 0.15);\n",
              "      fill: #174EA6;\n",
              "    }\n",
              "\n",
              "    [theme=dark] .colab-df-convert {\n",
              "      background-color: #3B4455;\n",
              "      fill: #D2E3FC;\n",
              "    }\n",
              "\n",
              "    [theme=dark] .colab-df-convert:hover {\n",
              "      background-color: #434B5C;\n",
              "      box-shadow: 0px 1px 3px 1px rgba(0, 0, 0, 0.15);\n",
              "      filter: drop-shadow(0px 1px 2px rgba(0, 0, 0, 0.3));\n",
              "      fill: #FFFFFF;\n",
              "    }\n",
              "  </style>\n",
              "\n",
              "      <script>\n",
              "        const buttonEl =\n",
              "          document.querySelector('#df-f6eecab6-161d-4ed2-9dad-e30c30bc2943 button.colab-df-convert');\n",
              "        buttonEl.style.display =\n",
              "          google.colab.kernel.accessAllowed ? 'block' : 'none';\n",
              "\n",
              "        async function convertToInteractive(key) {\n",
              "          const element = document.querySelector('#df-f6eecab6-161d-4ed2-9dad-e30c30bc2943');\n",
              "          const dataTable =\n",
              "            await google.colab.kernel.invokeFunction('convertToInteractive',\n",
              "                                                     [key], {});\n",
              "          if (!dataTable) return;\n",
              "\n",
              "          const docLinkHtml = 'Like what you see? Visit the ' +\n",
              "            '<a target=\"_blank\" href=https://colab.research.google.com/notebooks/data_table.ipynb>data table notebook</a>'\n",
              "            + ' to learn more about interactive tables.';\n",
              "          element.innerHTML = '';\n",
              "          dataTable['output_type'] = 'display_data';\n",
              "          await google.colab.output.renderOutput(dataTable, element);\n",
              "          const docLink = document.createElement('div');\n",
              "          docLink.innerHTML = docLinkHtml;\n",
              "          element.appendChild(docLink);\n",
              "        }\n",
              "      </script>\n",
              "    </div>\n",
              "  </div>\n",
              "  "
            ]
          },
          "metadata": {},
          "execution_count": 5
        }
      ]
    },
    {
      "cell_type": "code",
      "source": [
        "df.dtypes"
      ],
      "metadata": {
        "id": "CgKaKC3CB2vd",
        "colab": {
          "base_uri": "https://localhost:8080/"
        },
        "outputId": "97570799-4c50-411a-dbaf-d0cb47e6b76f"
      },
      "execution_count": null,
      "outputs": [
        {
          "output_type": "execute_result",
          "data": {
            "text/plain": [
              "WASTE_ID        int64\n",
              "SOURCE          int64\n",
              "ORG_ID          int64\n",
              "WWTP_NAME      object\n",
              "COUNTRY        object\n",
              "CNTRY_ISO      object\n",
              "LAT_WWTP      float64\n",
              "LON_WWTP      float64\n",
              "QUAL_LOC        int64\n",
              "LAT_OUT       float64\n",
              "LON_OUT       float64\n",
              "STATUS         object\n",
              "POP_SERVED      int64\n",
              "QUAL_POP        int64\n",
              "WASTE_DIS     float64\n",
              "QUAL_WASTE      int64\n",
              "LEVEL          object\n",
              "QUAL_LEVEL      int64\n",
              "DF            float64\n",
              "HYRIV_ID      float64\n",
              "RIVER_DIS     float64\n",
              "COAST_10KM      int64\n",
              "COAST_50KM      int64\n",
              "DESIGN_CAP    float64\n",
              "QUAL_CAP        int64\n",
              "dtype: object"
            ]
          },
          "metadata": {},
          "execution_count": 28
        }
      ]
    },
    {
      "cell_type": "code",
      "source": [
        "def minMax(x):\n",
        "    return pd.Series(index=['min','max'],data=[x.min(),x.max()])\n",
        "min_max = df.select_dtypes(include =['int64','float64']).apply(minMax)\n",
        "print(min_max)"
      ],
      "metadata": {
        "colab": {
          "base_uri": "https://localhost:8080/"
        },
        "id": "5DrXer5ZHGHL",
        "outputId": "1f0d51a4-4829-48e6-a244-25b84ed6eedd"
      },
      "execution_count": null,
      "outputs": [
        {
          "output_type": "stream",
          "name": "stdout",
          "text": [
            "     WASTE_ID  SOURCE       ORG_ID  LAT_WWTP  LON_WWTP  QUAL_LOC  LAT_OUT  \\\n",
            "min         1       1            1   -54.788  -175.302         1  -54.798   \n",
            "max     58502      12  78000001002    71.640   178.482         4   71.644   \n",
            "\n",
            "     LON_OUT  POP_SERVED  QUAL_POP    WASTE_DIS  QUAL_WASTE  QUAL_LEVEL  \\\n",
            "min -175.302           0         1        0.000           1           1   \n",
            "max  178.427    10146131         4  3073754.382           4           2   \n",
            "\n",
            "              DF    HYRIV_ID   RIVER_DIS  COAST_10KM  COAST_50KM  DESIGN_CAP  \\\n",
            "min          1.0  10000009.0       0.001           0           0         0.0   \n",
            "max  702936577.0  80323236.0  127105.248           1           1  11206250.0   \n",
            "\n",
            "     QUAL_CAP  \n",
            "min         1  \n",
            "max         3  \n"
          ]
        }
      ]
    },
    {
      "cell_type": "code",
      "source": [
        "# the unique values in the SOURCE column\n",
        "df.SOURCE.unique()"
      ],
      "metadata": {
        "id": "MD4daq5OCYG8",
        "colab": {
          "base_uri": "https://localhost:8080/"
        },
        "outputId": "3ffe07e4-1410-4f08-c11f-fd56569c39ce"
      },
      "execution_count": null,
      "outputs": [
        {
          "output_type": "execute_result",
          "data": {
            "text/plain": [
              "array([ 1,  2,  3,  4,  5,  6,  7,  8,  9, 10, 11, 12])"
            ]
          },
          "metadata": {},
          "execution_count": 6
        }
      ]
    },
    {
      "cell_type": "code",
      "source": [
        "# the occurrences for each distinct values in the SOURCE column\n",
        "df.SOURCE.value_counts().sort_index()"
      ],
      "metadata": {
        "colab": {
          "base_uri": "https://localhost:8080/"
        },
        "id": "JawgZddfCzoz",
        "outputId": "ab0763ae-e2a4-465c-87bf-140eecdbe51c"
      },
      "execution_count": null,
      "outputs": [
        {
          "output_type": "execute_result",
          "data": {
            "text/plain": [
              "1     24971\n",
              "2     14819\n",
              "3      2820\n",
              "4      2540\n",
              "5      2486\n",
              "6      2064\n",
              "7      1234\n",
              "8       964\n",
              "9       816\n",
              "10      317\n",
              "11      184\n",
              "12     5287\n",
              "Name: SOURCE, dtype: int64"
            ]
          },
          "metadata": {},
          "execution_count": 10
        }
      ]
    },
    {
      "cell_type": "markdown",
      "source": [
        "## WASTE_ID"
      ],
      "metadata": {
        "id": "VedBXCKUDRrq"
      }
    },
    {
      "cell_type": "code",
      "source": [
        "len(df.WASTE_ID.unique())"
      ],
      "metadata": {
        "colab": {
          "base_uri": "https://localhost:8080/"
        },
        "id": "cJyiXjzgDDqU",
        "outputId": "672ba72d-4e73-4535-f86a-990d23c9874a"
      },
      "execution_count": null,
      "outputs": [
        {
          "output_type": "execute_result",
          "data": {
            "text/plain": [
              "58502"
            ]
          },
          "metadata": {},
          "execution_count": 12
        }
      ]
    },
    {
      "cell_type": "markdown",
      "source": [
        "# 2"
      ],
      "metadata": {
        "id": "7KOCqq4yEIRt"
      }
    },
    {
      "cell_type": "code",
      "source": [
        "len(df.SOURCE.unique())"
      ],
      "metadata": {
        "colab": {
          "base_uri": "https://localhost:8080/"
        },
        "id": "H6bSU6-fEJQ9",
        "outputId": "f7f475f9-67dd-47d1-8d1f-676453d1fb25"
      },
      "execution_count": null,
      "outputs": [
        {
          "output_type": "execute_result",
          "data": {
            "text/plain": [
              "12"
            ]
          },
          "metadata": {},
          "execution_count": 13
        }
      ]
    },
    {
      "cell_type": "markdown",
      "source": [
        "#3"
      ],
      "metadata": {
        "id": "7Db3AV3AEri9"
      }
    },
    {
      "cell_type": "code",
      "source": [
        "len(df.ORG_ID.unique())"
      ],
      "metadata": {
        "colab": {
          "base_uri": "https://localhost:8080/"
        },
        "id": "S4JY8swsEsOa",
        "outputId": "b75feeeb-ef1c-4afd-cf83-8ac5b6b63fb7"
      },
      "execution_count": null,
      "outputs": [
        {
          "output_type": "execute_result",
          "data": {
            "text/plain": [
              "47496"
            ]
          },
          "metadata": {},
          "execution_count": 17
        }
      ]
    },
    {
      "cell_type": "code",
      "source": [
        "counts = df.ORG_ID.value_counts()\n",
        "counts[counts>1].sort_index()"
      ],
      "metadata": {
        "colab": {
          "base_uri": "https://localhost:8080/"
        },
        "id": "SSsWfFMYE4ht",
        "outputId": "f3514551-bd7a-4efb-802d-3599832d361b"
      },
      "execution_count": null,
      "outputs": [
        {
          "output_type": "execute_result",
          "data": {
            "text/plain": [
              "1       8\n",
              "2       8\n",
              "3       8\n",
              "4       8\n",
              "5       8\n",
              "       ..\n",
              "4557    2\n",
              "4558    2\n",
              "4559    2\n",
              "4561    2\n",
              "4562    2\n",
              "Name: ORG_ID, Length: 3912, dtype: int64"
            ]
          },
          "metadata": {},
          "execution_count": 21
        }
      ]
    },
    {
      "cell_type": "markdown",
      "source": [],
      "metadata": {
        "id": "LrinHFoqF2di"
      }
    },
    {
      "cell_type": "markdown",
      "source": [
        "# WWTP_NAME"
      ],
      "metadata": {
        "id": "6oyWQ-GrF2i9"
      }
    },
    {
      "cell_type": "code",
      "source": [
        "len(df.WWTP_NAME.unique())"
      ],
      "metadata": {
        "colab": {
          "base_uri": "https://localhost:8080/"
        },
        "id": "Nl6lB3SQF3eV",
        "outputId": "4e623d1b-3886-4edd-eef7-26d5680f32c1"
      },
      "execution_count": null,
      "outputs": [
        {
          "output_type": "execute_result",
          "data": {
            "text/plain": [
              "49261"
            ]
          },
          "metadata": {},
          "execution_count": 23
        }
      ]
    },
    {
      "cell_type": "code",
      "source": [
        "counts = df.WWTP_NAME.value_counts()\n",
        "counts[counts>1].sort_index()"
      ],
      "metadata": {
        "colab": {
          "base_uri": "https://localhost:8080/"
        },
        "id": "W9nbf68DF79X",
        "outputId": "57c47135-ab3d-4a37-9e68-7cf9bf3d5b10"
      },
      "execution_count": null,
      "outputs": [
        {
          "output_type": "execute_result",
          "data": {
            "text/plain": [
              "                           3\n",
              "ADAMS WWTP                 2\n",
              "ADRIAN WWTP                2\n",
              "ADVANCE WWTP               2\n",
              "AINSWORTH WWTP             2\n",
              "                          ..\n",
              "mechaniczno biologiczna    2\n",
              "oczyszczalnia              2\n",
              "station epuration          3\n",
              "usine epuration            2\n",
              "zarnowiec                  2\n",
              "Name: WWTP_NAME, Length: 1044, dtype: int64"
            ]
          },
          "metadata": {},
          "execution_count": 24
        }
      ]
    },
    {
      "cell_type": "markdown",
      "source": [
        "# COUNTRY"
      ],
      "metadata": {
        "id": "AZgaWuqeGWX9"
      }
    },
    {
      "cell_type": "code",
      "source": [
        "len(df.COUNTRY.unique())"
      ],
      "metadata": {
        "colab": {
          "base_uri": "https://localhost:8080/"
        },
        "id": "HF7vujSPGYJg",
        "outputId": "e6599b1b-89ea-423d-e399-09d5f2cee704"
      },
      "execution_count": null,
      "outputs": [
        {
          "output_type": "execute_result",
          "data": {
            "text/plain": [
              "188"
            ]
          },
          "metadata": {},
          "execution_count": 26
        }
      ]
    },
    {
      "cell_type": "markdown",
      "source": [
        "#CNTRY_ISO"
      ],
      "metadata": {
        "id": "_VC5DpcXGjSh"
      }
    },
    {
      "cell_type": "code",
      "source": [
        "len(df.CNTRY_ISO.unique())"
      ],
      "metadata": {
        "colab": {
          "base_uri": "https://localhost:8080/"
        },
        "id": "Yv9C6HdPGj-g",
        "outputId": "2717ced1-5a1c-4f05-c16d-3bd72a16ee78"
      },
      "execution_count": null,
      "outputs": [
        {
          "output_type": "execute_result",
          "data": {
            "text/plain": [
              "180"
            ]
          },
          "metadata": {},
          "execution_count": 27
        }
      ]
    },
    {
      "cell_type": "code",
      "source": [
        "counts = df.CNTRY_ISO.value_counts()\n",
        "counts[counts>1].sort_index()"
      ],
      "metadata": {
        "colab": {
          "base_uri": "https://localhost:8080/"
        },
        "id": "JOu1FcT5Ktgc",
        "outputId": "14d76273-3fce-48a2-fc3c-c494e833d01e"
      },
      "execution_count": null,
      "outputs": [
        {
          "output_type": "execute_result",
          "data": {
            "text/plain": [
              "ABW      3\n",
              "AFG      5\n",
              "AGO      8\n",
              "ALB      6\n",
              "ARE     34\n",
              "      ... \n",
              "XKX      6\n",
              "YEM      2\n",
              "ZAF    964\n",
              "ZMB     13\n",
              "ZWE     42\n",
              "Name: CNTRY_ISO, Length: 162, dtype: int64"
            ]
          },
          "metadata": {},
          "execution_count": 39
        }
      ]
    },
    {
      "cell_type": "code",
      "source": [
        "df.loc[df.duplicated(subset=['CNTRY_ISO'])]"
      ],
      "metadata": {
        "colab": {
          "base_uri": "https://localhost:8080/",
          "height": 592
        },
        "id": "DWQNvd_wK8pL",
        "outputId": "125dfbb7-784c-4029-bfc9-d8f09fa03b73"
      },
      "execution_count": null,
      "outputs": [
        {
          "output_type": "execute_result",
          "data": {
            "text/plain": [
              "       WASTE_ID  SOURCE   ORG_ID                       WWTP_NAME    COUNTRY  \\\n",
              "1             2       1  1140443          Alytaus m aglomeracija  Lithuania   \n",
              "2             3       1  1140445           Anyksciu aglomeracija  Lithuania   \n",
              "3             4       1  1140447          Ariogalos aglomeracija  Lithuania   \n",
              "4             5       1  1140449         Baisogalos aglomeracija  Lithuania   \n",
              "5             6       1  1140451  Birstono   Prienu aglomeracija  Lithuania   \n",
              "...         ...     ...      ...                             ...        ...   \n",
              "58497     58498      12     5648                             NaN     Russia   \n",
              "58498     58499      12     5649                             NaN      Kenya   \n",
              "58499     58500      12     5650                             NaN     Turkey   \n",
              "58500     58501      12     5651                             NaN     Russia   \n",
              "58501     58502      12     5652                             NaN     Russia   \n",
              "\n",
              "      CNTRY_ISO  LAT_WWTP  LON_WWTP  QUAL_LOC  LAT_OUT  ...  QUAL_WASTE  \\\n",
              "1           LTU    54.432    24.056         2   54.519  ...           1   \n",
              "2           LTU    55.509    25.073         2   55.452  ...           1   \n",
              "3           LTU    55.252    23.484         2   55.210  ...           1   \n",
              "4           LTU    55.644    23.741         2   55.681  ...           4   \n",
              "5           LTU    54.623    24.062         2   54.715  ...           1   \n",
              "...         ...       ...       ...       ...      ...  ...         ...   \n",
              "58497       RUS    71.640   128.855         1   71.644  ...           4   \n",
              "58498       KEN    -0.711    34.823         1   -0.769  ...           4   \n",
              "58499       TUR    37.860    27.842         1   37.798  ...           4   \n",
              "58500       RUS    60.080    29.949         1   60.090  ...           4   \n",
              "58501       RUS    64.583    39.778         1   64.548  ...           4   \n",
              "\n",
              "           LEVEL  QUAL_LEVEL         DF    HYRIV_ID  RIVER_DIS COAST_10KM  \\\n",
              "1       Advanced           1   2534.527  20261585.0    257.983          0   \n",
              "2       Advanced           1   1367.809  20243105.0     30.995          0   \n",
              "3      Secondary           1   2061.969  20247446.0     13.799          0   \n",
              "4      Secondary           1    209.549  20239330.0      0.405          0   \n",
              "5       Advanced           1  10366.240  20256987.0    268.665          0   \n",
              "...          ...         ...        ...         ...        ...        ...   \n",
              "58497  Secondary           2        NaN  30032708.0        NaN          1   \n",
              "58498  Secondary           2      7.502  11015070.0      4.467          0   \n",
              "58499  Secondary           2    156.913  20660889.0     48.421          0   \n",
              "58500  Secondary           2        NaN  20162898.0        NaN          1   \n",
              "58501  Secondary           2        NaN  20081557.0        NaN          1   \n",
              "\n",
              "       COAST_50KM  DESIGN_CAP  QUAL_CAP  \n",
              "1               0    220000.0         2  \n",
              "2               0     33000.0         2  \n",
              "3               0      4357.0         2  \n",
              "4               0      1490.0         2  \n",
              "5               0     19000.0         2  \n",
              "...           ...         ...       ...  \n",
              "58497           1         NaN         3  \n",
              "58498           1         NaN         3  \n",
              "58499           0         NaN         3  \n",
              "58500           1         NaN         3  \n",
              "58501           1         NaN         3  \n",
              "\n",
              "[58322 rows x 25 columns]"
            ],
            "text/html": [
              "\n",
              "  <div id=\"df-142dfb05-53a5-4613-ab29-27d8b814c878\">\n",
              "    <div class=\"colab-df-container\">\n",
              "      <div>\n",
              "<style scoped>\n",
              "    .dataframe tbody tr th:only-of-type {\n",
              "        vertical-align: middle;\n",
              "    }\n",
              "\n",
              "    .dataframe tbody tr th {\n",
              "        vertical-align: top;\n",
              "    }\n",
              "\n",
              "    .dataframe thead th {\n",
              "        text-align: right;\n",
              "    }\n",
              "</style>\n",
              "<table border=\"1\" class=\"dataframe\">\n",
              "  <thead>\n",
              "    <tr style=\"text-align: right;\">\n",
              "      <th></th>\n",
              "      <th>WASTE_ID</th>\n",
              "      <th>SOURCE</th>\n",
              "      <th>ORG_ID</th>\n",
              "      <th>WWTP_NAME</th>\n",
              "      <th>COUNTRY</th>\n",
              "      <th>CNTRY_ISO</th>\n",
              "      <th>LAT_WWTP</th>\n",
              "      <th>LON_WWTP</th>\n",
              "      <th>QUAL_LOC</th>\n",
              "      <th>LAT_OUT</th>\n",
              "      <th>...</th>\n",
              "      <th>QUAL_WASTE</th>\n",
              "      <th>LEVEL</th>\n",
              "      <th>QUAL_LEVEL</th>\n",
              "      <th>DF</th>\n",
              "      <th>HYRIV_ID</th>\n",
              "      <th>RIVER_DIS</th>\n",
              "      <th>COAST_10KM</th>\n",
              "      <th>COAST_50KM</th>\n",
              "      <th>DESIGN_CAP</th>\n",
              "      <th>QUAL_CAP</th>\n",
              "    </tr>\n",
              "  </thead>\n",
              "  <tbody>\n",
              "    <tr>\n",
              "      <th>1</th>\n",
              "      <td>2</td>\n",
              "      <td>1</td>\n",
              "      <td>1140443</td>\n",
              "      <td>Alytaus m aglomeracija</td>\n",
              "      <td>Lithuania</td>\n",
              "      <td>LTU</td>\n",
              "      <td>54.432</td>\n",
              "      <td>24.056</td>\n",
              "      <td>2</td>\n",
              "      <td>54.519</td>\n",
              "      <td>...</td>\n",
              "      <td>1</td>\n",
              "      <td>Advanced</td>\n",
              "      <td>1</td>\n",
              "      <td>2534.527</td>\n",
              "      <td>20261585.0</td>\n",
              "      <td>257.983</td>\n",
              "      <td>0</td>\n",
              "      <td>0</td>\n",
              "      <td>220000.0</td>\n",
              "      <td>2</td>\n",
              "    </tr>\n",
              "    <tr>\n",
              "      <th>2</th>\n",
              "      <td>3</td>\n",
              "      <td>1</td>\n",
              "      <td>1140445</td>\n",
              "      <td>Anyksciu aglomeracija</td>\n",
              "      <td>Lithuania</td>\n",
              "      <td>LTU</td>\n",
              "      <td>55.509</td>\n",
              "      <td>25.073</td>\n",
              "      <td>2</td>\n",
              "      <td>55.452</td>\n",
              "      <td>...</td>\n",
              "      <td>1</td>\n",
              "      <td>Advanced</td>\n",
              "      <td>1</td>\n",
              "      <td>1367.809</td>\n",
              "      <td>20243105.0</td>\n",
              "      <td>30.995</td>\n",
              "      <td>0</td>\n",
              "      <td>0</td>\n",
              "      <td>33000.0</td>\n",
              "      <td>2</td>\n",
              "    </tr>\n",
              "    <tr>\n",
              "      <th>3</th>\n",
              "      <td>4</td>\n",
              "      <td>1</td>\n",
              "      <td>1140447</td>\n",
              "      <td>Ariogalos aglomeracija</td>\n",
              "      <td>Lithuania</td>\n",
              "      <td>LTU</td>\n",
              "      <td>55.252</td>\n",
              "      <td>23.484</td>\n",
              "      <td>2</td>\n",
              "      <td>55.210</td>\n",
              "      <td>...</td>\n",
              "      <td>1</td>\n",
              "      <td>Secondary</td>\n",
              "      <td>1</td>\n",
              "      <td>2061.969</td>\n",
              "      <td>20247446.0</td>\n",
              "      <td>13.799</td>\n",
              "      <td>0</td>\n",
              "      <td>0</td>\n",
              "      <td>4357.0</td>\n",
              "      <td>2</td>\n",
              "    </tr>\n",
              "    <tr>\n",
              "      <th>4</th>\n",
              "      <td>5</td>\n",
              "      <td>1</td>\n",
              "      <td>1140449</td>\n",
              "      <td>Baisogalos aglomeracija</td>\n",
              "      <td>Lithuania</td>\n",
              "      <td>LTU</td>\n",
              "      <td>55.644</td>\n",
              "      <td>23.741</td>\n",
              "      <td>2</td>\n",
              "      <td>55.681</td>\n",
              "      <td>...</td>\n",
              "      <td>4</td>\n",
              "      <td>Secondary</td>\n",
              "      <td>1</td>\n",
              "      <td>209.549</td>\n",
              "      <td>20239330.0</td>\n",
              "      <td>0.405</td>\n",
              "      <td>0</td>\n",
              "      <td>0</td>\n",
              "      <td>1490.0</td>\n",
              "      <td>2</td>\n",
              "    </tr>\n",
              "    <tr>\n",
              "      <th>5</th>\n",
              "      <td>6</td>\n",
              "      <td>1</td>\n",
              "      <td>1140451</td>\n",
              "      <td>Birstono   Prienu aglomeracija</td>\n",
              "      <td>Lithuania</td>\n",
              "      <td>LTU</td>\n",
              "      <td>54.623</td>\n",
              "      <td>24.062</td>\n",
              "      <td>2</td>\n",
              "      <td>54.715</td>\n",
              "      <td>...</td>\n",
              "      <td>1</td>\n",
              "      <td>Advanced</td>\n",
              "      <td>1</td>\n",
              "      <td>10366.240</td>\n",
              "      <td>20256987.0</td>\n",
              "      <td>268.665</td>\n",
              "      <td>0</td>\n",
              "      <td>0</td>\n",
              "      <td>19000.0</td>\n",
              "      <td>2</td>\n",
              "    </tr>\n",
              "    <tr>\n",
              "      <th>...</th>\n",
              "      <td>...</td>\n",
              "      <td>...</td>\n",
              "      <td>...</td>\n",
              "      <td>...</td>\n",
              "      <td>...</td>\n",
              "      <td>...</td>\n",
              "      <td>...</td>\n",
              "      <td>...</td>\n",
              "      <td>...</td>\n",
              "      <td>...</td>\n",
              "      <td>...</td>\n",
              "      <td>...</td>\n",
              "      <td>...</td>\n",
              "      <td>...</td>\n",
              "      <td>...</td>\n",
              "      <td>...</td>\n",
              "      <td>...</td>\n",
              "      <td>...</td>\n",
              "      <td>...</td>\n",
              "      <td>...</td>\n",
              "      <td>...</td>\n",
              "    </tr>\n",
              "    <tr>\n",
              "      <th>58497</th>\n",
              "      <td>58498</td>\n",
              "      <td>12</td>\n",
              "      <td>5648</td>\n",
              "      <td>NaN</td>\n",
              "      <td>Russia</td>\n",
              "      <td>RUS</td>\n",
              "      <td>71.640</td>\n",
              "      <td>128.855</td>\n",
              "      <td>1</td>\n",
              "      <td>71.644</td>\n",
              "      <td>...</td>\n",
              "      <td>4</td>\n",
              "      <td>Secondary</td>\n",
              "      <td>2</td>\n",
              "      <td>NaN</td>\n",
              "      <td>30032708.0</td>\n",
              "      <td>NaN</td>\n",
              "      <td>1</td>\n",
              "      <td>1</td>\n",
              "      <td>NaN</td>\n",
              "      <td>3</td>\n",
              "    </tr>\n",
              "    <tr>\n",
              "      <th>58498</th>\n",
              "      <td>58499</td>\n",
              "      <td>12</td>\n",
              "      <td>5649</td>\n",
              "      <td>NaN</td>\n",
              "      <td>Kenya</td>\n",
              "      <td>KEN</td>\n",
              "      <td>-0.711</td>\n",
              "      <td>34.823</td>\n",
              "      <td>1</td>\n",
              "      <td>-0.769</td>\n",
              "      <td>...</td>\n",
              "      <td>4</td>\n",
              "      <td>Secondary</td>\n",
              "      <td>2</td>\n",
              "      <td>7.502</td>\n",
              "      <td>11015070.0</td>\n",
              "      <td>4.467</td>\n",
              "      <td>0</td>\n",
              "      <td>1</td>\n",
              "      <td>NaN</td>\n",
              "      <td>3</td>\n",
              "    </tr>\n",
              "    <tr>\n",
              "      <th>58499</th>\n",
              "      <td>58500</td>\n",
              "      <td>12</td>\n",
              "      <td>5650</td>\n",
              "      <td>NaN</td>\n",
              "      <td>Turkey</td>\n",
              "      <td>TUR</td>\n",
              "      <td>37.860</td>\n",
              "      <td>27.842</td>\n",
              "      <td>1</td>\n",
              "      <td>37.798</td>\n",
              "      <td>...</td>\n",
              "      <td>4</td>\n",
              "      <td>Secondary</td>\n",
              "      <td>2</td>\n",
              "      <td>156.913</td>\n",
              "      <td>20660889.0</td>\n",
              "      <td>48.421</td>\n",
              "      <td>0</td>\n",
              "      <td>0</td>\n",
              "      <td>NaN</td>\n",
              "      <td>3</td>\n",
              "    </tr>\n",
              "    <tr>\n",
              "      <th>58500</th>\n",
              "      <td>58501</td>\n",
              "      <td>12</td>\n",
              "      <td>5651</td>\n",
              "      <td>NaN</td>\n",
              "      <td>Russia</td>\n",
              "      <td>RUS</td>\n",
              "      <td>60.080</td>\n",
              "      <td>29.949</td>\n",
              "      <td>1</td>\n",
              "      <td>60.090</td>\n",
              "      <td>...</td>\n",
              "      <td>4</td>\n",
              "      <td>Secondary</td>\n",
              "      <td>2</td>\n",
              "      <td>NaN</td>\n",
              "      <td>20162898.0</td>\n",
              "      <td>NaN</td>\n",
              "      <td>1</td>\n",
              "      <td>1</td>\n",
              "      <td>NaN</td>\n",
              "      <td>3</td>\n",
              "    </tr>\n",
              "    <tr>\n",
              "      <th>58501</th>\n",
              "      <td>58502</td>\n",
              "      <td>12</td>\n",
              "      <td>5652</td>\n",
              "      <td>NaN</td>\n",
              "      <td>Russia</td>\n",
              "      <td>RUS</td>\n",
              "      <td>64.583</td>\n",
              "      <td>39.778</td>\n",
              "      <td>1</td>\n",
              "      <td>64.548</td>\n",
              "      <td>...</td>\n",
              "      <td>4</td>\n",
              "      <td>Secondary</td>\n",
              "      <td>2</td>\n",
              "      <td>NaN</td>\n",
              "      <td>20081557.0</td>\n",
              "      <td>NaN</td>\n",
              "      <td>1</td>\n",
              "      <td>1</td>\n",
              "      <td>NaN</td>\n",
              "      <td>3</td>\n",
              "    </tr>\n",
              "  </tbody>\n",
              "</table>\n",
              "<p>58322 rows × 25 columns</p>\n",
              "</div>\n",
              "      <button class=\"colab-df-convert\" onclick=\"convertToInteractive('df-142dfb05-53a5-4613-ab29-27d8b814c878')\"\n",
              "              title=\"Convert this dataframe to an interactive table.\"\n",
              "              style=\"display:none;\">\n",
              "        \n",
              "  <svg xmlns=\"http://www.w3.org/2000/svg\" height=\"24px\"viewBox=\"0 0 24 24\"\n",
              "       width=\"24px\">\n",
              "    <path d=\"M0 0h24v24H0V0z\" fill=\"none\"/>\n",
              "    <path d=\"M18.56 5.44l.94 2.06.94-2.06 2.06-.94-2.06-.94-.94-2.06-.94 2.06-2.06.94zm-11 1L8.5 8.5l.94-2.06 2.06-.94-2.06-.94L8.5 2.5l-.94 2.06-2.06.94zm10 10l.94 2.06.94-2.06 2.06-.94-2.06-.94-.94-2.06-.94 2.06-2.06.94z\"/><path d=\"M17.41 7.96l-1.37-1.37c-.4-.4-.92-.59-1.43-.59-.52 0-1.04.2-1.43.59L10.3 9.45l-7.72 7.72c-.78.78-.78 2.05 0 2.83L4 21.41c.39.39.9.59 1.41.59.51 0 1.02-.2 1.41-.59l7.78-7.78 2.81-2.81c.8-.78.8-2.07 0-2.86zM5.41 20L4 18.59l7.72-7.72 1.47 1.35L5.41 20z\"/>\n",
              "  </svg>\n",
              "      </button>\n",
              "      \n",
              "  <style>\n",
              "    .colab-df-container {\n",
              "      display:flex;\n",
              "      flex-wrap:wrap;\n",
              "      gap: 12px;\n",
              "    }\n",
              "\n",
              "    .colab-df-convert {\n",
              "      background-color: #E8F0FE;\n",
              "      border: none;\n",
              "      border-radius: 50%;\n",
              "      cursor: pointer;\n",
              "      display: none;\n",
              "      fill: #1967D2;\n",
              "      height: 32px;\n",
              "      padding: 0 0 0 0;\n",
              "      width: 32px;\n",
              "    }\n",
              "\n",
              "    .colab-df-convert:hover {\n",
              "      background-color: #E2EBFA;\n",
              "      box-shadow: 0px 1px 2px rgba(60, 64, 67, 0.3), 0px 1px 3px 1px rgba(60, 64, 67, 0.15);\n",
              "      fill: #174EA6;\n",
              "    }\n",
              "\n",
              "    [theme=dark] .colab-df-convert {\n",
              "      background-color: #3B4455;\n",
              "      fill: #D2E3FC;\n",
              "    }\n",
              "\n",
              "    [theme=dark] .colab-df-convert:hover {\n",
              "      background-color: #434B5C;\n",
              "      box-shadow: 0px 1px 3px 1px rgba(0, 0, 0, 0.15);\n",
              "      filter: drop-shadow(0px 1px 2px rgba(0, 0, 0, 0.3));\n",
              "      fill: #FFFFFF;\n",
              "    }\n",
              "  </style>\n",
              "\n",
              "      <script>\n",
              "        const buttonEl =\n",
              "          document.querySelector('#df-142dfb05-53a5-4613-ab29-27d8b814c878 button.colab-df-convert');\n",
              "        buttonEl.style.display =\n",
              "          google.colab.kernel.accessAllowed ? 'block' : 'none';\n",
              "\n",
              "        async function convertToInteractive(key) {\n",
              "          const element = document.querySelector('#df-142dfb05-53a5-4613-ab29-27d8b814c878');\n",
              "          const dataTable =\n",
              "            await google.colab.kernel.invokeFunction('convertToInteractive',\n",
              "                                                     [key], {});\n",
              "          if (!dataTable) return;\n",
              "\n",
              "          const docLinkHtml = 'Like what you see? Visit the ' +\n",
              "            '<a target=\"_blank\" href=https://colab.research.google.com/notebooks/data_table.ipynb>data table notebook</a>'\n",
              "            + ' to learn more about interactive tables.';\n",
              "          element.innerHTML = '';\n",
              "          dataTable['output_type'] = 'display_data';\n",
              "          await google.colab.output.renderOutput(dataTable, element);\n",
              "          const docLink = document.createElement('div');\n",
              "          docLink.innerHTML = docLinkHtml;\n",
              "          element.appendChild(docLink);\n",
              "        }\n",
              "      </script>\n",
              "    </div>\n",
              "  </div>\n",
              "  "
            ]
          },
          "metadata": {},
          "execution_count": 44
        }
      ]
    },
    {
      "cell_type": "markdown",
      "source": [
        "# LAT_WWTP"
      ],
      "metadata": {
        "id": "zOkZN9_eHotd"
      }
    },
    {
      "cell_type": "code",
      "source": [
        "len(df.LAT_WWTP.unique())"
      ],
      "metadata": {
        "colab": {
          "base_uri": "https://localhost:8080/"
        },
        "id": "-oVo5dasHpTu",
        "outputId": "f5c81d0c-b3c9-4827-bdaf-ae9a30ed4f56"
      },
      "execution_count": null,
      "outputs": [
        {
          "output_type": "execute_result",
          "data": {
            "text/plain": [
              "31311"
            ]
          },
          "metadata": {},
          "execution_count": 32
        }
      ]
    },
    {
      "cell_type": "code",
      "source": [
        "df.LAT_WWTP.max()"
      ],
      "metadata": {
        "colab": {
          "base_uri": "https://localhost:8080/"
        },
        "id": "f2Va0v-PH8l4",
        "outputId": "bb5c4b68-a70c-4c9c-9c27-aa3fddba66f6"
      },
      "execution_count": null,
      "outputs": [
        {
          "output_type": "execute_result",
          "data": {
            "text/plain": [
              "71.64"
            ]
          },
          "metadata": {},
          "execution_count": 34
        }
      ]
    },
    {
      "cell_type": "markdown",
      "source": [
        "# QUAL_LOC"
      ],
      "metadata": {
        "id": "gHxByjSiIxRa"
      }
    },
    {
      "cell_type": "code",
      "source": [
        "df.QUAL_LOC.unique()"
      ],
      "metadata": {
        "colab": {
          "base_uri": "https://localhost:8080/"
        },
        "id": "89FUG1r_Ix4N",
        "outputId": "1a9babcc-a269-48e8-cf93-0335759f0154"
      },
      "execution_count": null,
      "outputs": [
        {
          "output_type": "execute_result",
          "data": {
            "text/plain": [
              "array([2, 3, 4, 1])"
            ]
          },
          "metadata": {},
          "execution_count": 36
        }
      ]
    },
    {
      "cell_type": "code",
      "source": [
        "len(df.STATUS.unique())"
      ],
      "metadata": {
        "colab": {
          "base_uri": "https://localhost:8080/"
        },
        "id": "DuIc4a9vJDuM",
        "outputId": "2bd9de9c-0bd4-42b5-a05b-ce7d3441297e"
      },
      "execution_count": null,
      "outputs": [
        {
          "output_type": "execute_result",
          "data": {
            "text/plain": [
              "9"
            ]
          },
          "metadata": {},
          "execution_count": 38
        }
      ]
    }
  ]
}